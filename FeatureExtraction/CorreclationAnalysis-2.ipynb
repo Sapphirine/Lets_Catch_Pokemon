{
 "cells": [
  {
   "cell_type": "code",
   "execution_count": null,
   "metadata": {},
   "outputs": [],
   "source": [
    "import pandas as pd\n",
    "import numpy as np\n",
    "import matplotlib.pyplot as plt\n",
    "import seaborn as sns"
   ]
  },
  {
   "cell_type": "code",
   "execution_count": null,
   "metadata": {
    "scrolled": true
   },
   "outputs": [],
   "source": [
    "pd.set_option('display.max_columns', None)\n",
    "\n",
    "#Data = pd.read_csv(\"../Data/smalldata.csv\")\n",
    "Data = pd.read_csv(\"~/data/project/300k.csv\")\n",
    "#print(Data.head())\n",
    "\n",
    "#Steage 1\n",
    "Selection = ['pokemonId', 'latitude', 'longitude','appearedTimeOfDay', 'appearedHour','appearedMinute',\\\n",
    "             'appearedDay','terrainType', 'closeToWater', 'gymDistanceKm','city', 'continent','weather', 'temperature', \\\n",
    "             'windSpeed', 'windBearing', 'pressure','population_density','urban','suburban','midurban','pokestopDistanceKm','rural']\n",
    "#Selection = ['pokemonId', 'city','latitude', 'longitude', 'appearedHour','appearedMinute',\\\n",
    "#            'terrainType', 'closeToWater', 'gymDistanceKm','weather', 'temperature', \\\n",
    "#             'windSpeed', 'windBearing', 'pressure',\\\n",
    "#            'class' ]\n",
    "ReducedData = Data.loc[:, Selection]\n",
    "ReducedData.head()"
   ]
  },
  {
   "cell_type": "markdown",
   "metadata": {},
   "source": [
    "# Data Cleaning"
   ]
  },
  {
   "cell_type": "code",
   "execution_count": null,
   "metadata": {},
   "outputs": [],
   "source": [
    "def Convertnumber(Data, field):\n",
    "    Data[field]= Data[field].astype('category')\n",
    "    catdict = dict(enumerate(Data[field].cat.categories))\n",
    "    Data[field] = Data[field].cat.codes\n",
    "    return catdict, Data"
   ]
  },
  {
   "cell_type": "code",
   "execution_count": null,
   "metadata": {},
   "outputs": [],
   "source": [
    "weatherdict, ReducedData = Convertnumber(ReducedData, 'weather')\n",
    "waterdict, ReducedData = Convertnumber(ReducedData, 'closeToWater')\n",
    "appearedTimeOfDaydict, ReducedData = Convertnumber(ReducedData, 'appearedTimeOfDay')\n",
    "citydict, ReducedData = Convertnumber(ReducedData, 'city')\n",
    "continentdict, ReducedData = Convertnumber(ReducedData, 'continent')\n",
    "urbandict, ReducedData = Convertnumber(ReducedData, 'urban')\n",
    "suburbandict, ReducedData = Convertnumber(ReducedData, 'suburban')\n",
    "midurbandict, ReducedData = Convertnumber(ReducedData, 'midurban')\n",
    "ruraldict, ReducedData = Convertnumber(ReducedData, 'rural')\n",
    "ReducedData.head()"
   ]
  },
  {
   "cell_type": "code",
   "execution_count": null,
   "metadata": {},
   "outputs": [],
   "source": [
    "ReducedData['pokestopDistanceKm'] = ReducedData['pokestopDistanceKm'].convert_objects(convert_numeric=True).dropna()"
   ]
  },
  {
   "cell_type": "markdown",
   "metadata": {},
   "source": [
    "# Features Correclation Analysis"
   ]
  },
  {
   "cell_type": "code",
   "execution_count": null,
   "metadata": {},
   "outputs": [],
   "source": [
    "plt.subplots(figsize = (30,30))\n",
    "corr = abs(ReducedData.corr())\n",
    "sns.heatmap(corr, \n",
    "            xticklabels=corr.columns.values,\n",
    "            yticklabels=corr.columns.values,\n",
    "            annot=True,cmap = \"Blues\")\n",
    "plt.savefig('corr_figure.jpg')\n",
    "\n",
    "plt.show()"
   ]
  },
  {
   "cell_type": "markdown",
   "metadata": {},
   "source": [
    "# Behaviour Similarity Analysis "
   ]
  },
  {
   "cell_type": "code",
   "execution_count": null,
   "metadata": {},
   "outputs": [],
   "source": [
    "mean_col = ReducedData.groupby('pokemonId').mean()"
   ]
  },
  {
   "cell_type": "code",
   "execution_count": null,
   "metadata": {},
   "outputs": [],
   "source": [
    "mean_col.head()"
   ]
  },
  {
   "cell_type": "code",
   "execution_count": null,
   "metadata": {},
   "outputs": [],
   "source": [
    "DataForBehavior = mean_col\n",
    "DataForBehavior.head()"
   ]
  },
  {
   "cell_type": "code",
   "execution_count": null,
   "metadata": {},
   "outputs": [],
   "source": [
    "from sklearn.metrics.pairwise import cosine_similarity\n",
    "from sklearn.metrics.pairwise import manhattan_distances"
   ]
  },
  {
   "cell_type": "code",
   "execution_count": null,
   "metadata": {},
   "outputs": [],
   "source": [
    "plt.subplots(figsize = (300,300))\n",
    "#similaritymatrix = cosine_similarity(DataForBehavior)\n",
    "similaritymatrix =  manhattan_distances(DataForBehavior)\n",
    "df = pd.DataFrame(similaritymatrix)\n",
    "sns.heatmap(df, \n",
    "            xticklabels=df.columns.values,\n",
    "            yticklabels=df.columns.values,\n",
    "            annot=True)\n",
    "plt.savefig('BehaviorSimilar.jpg')\n",
    "#plt.show()"
   ]
  },
  {
   "cell_type": "code",
   "execution_count": null,
   "metadata": {},
   "outputs": [],
   "source": [
    "df.head()"
   ]
  },
  {
   "cell_type": "markdown",
   "metadata": {},
   "source": [
    "# Find k Most Likely Pokemons"
   ]
  },
  {
   "cell_type": "code",
   "execution_count": null,
   "metadata": {},
   "outputs": [],
   "source": [
    "import numpy as np"
   ]
  },
  {
   "cell_type": "code",
   "execution_count": null,
   "metadata": {},
   "outputs": [],
   "source": [
    " k = 10"
   ]
  },
  {
   "cell_type": "code",
   "execution_count": null,
   "metadata": {},
   "outputs": [],
   "source": [
    "a = similaritymatrix\n",
    "klike_matrix = np.argpartition(a,k+1)[:,:k+1]\n",
    "klike = pd.DataFrame(np.argpartition(a,k+1)[:,:k+1])\n",
    "klike.head()"
   ]
  },
  {
   "cell_type": "code",
   "execution_count": null,
   "metadata": {},
   "outputs": [],
   "source": [
    "edges = []\n",
    "for i in range(np.shape(a)[0]):\n",
    "    for j in range(k+1):\n",
    "        if i != klike_matrix[i,j]:\n",
    "            pair = [i,klike_matrix[i,j]]\n",
    "            edges.append(pair)"
   ]
  },
  {
   "cell_type": "code",
   "execution_count": null,
   "metadata": {},
   "outputs": [],
   "source": [
    "vertices = klike.T.columns.values"
   ]
  },
  {
   "cell_type": "code",
   "execution_count": null,
   "metadata": {},
   "outputs": [],
   "source": []
  },
  {
   "cell_type": "code",
   "execution_count": null,
   "metadata": {},
   "outputs": [],
   "source": [
    "np.savetxt(\"edges.csv\", edges, delimiter=\",\")\n",
    "np.savetxt(\"vertices.csv\", vertices, delimiter=\",\")"
   ]
  },
  {
   "cell_type": "code",
   "execution_count": null,
   "metadata": {},
   "outputs": [],
   "source": [
    "Data = pd.read_csv(\"~/data/project/300k.csv\")"
   ]
  },
  {
   "cell_type": "code",
   "execution_count": null,
   "metadata": {},
   "outputs": [],
   "source": []
  },
  {
   "cell_type": "code",
   "execution_count": null,
   "metadata": {},
   "outputs": [],
   "source": []
  }
 ],
 "metadata": {
  "kernelspec": {
   "display_name": "Python 3",
   "language": "python",
   "name": "python3"
  },
  "language_info": {
   "codemirror_mode": {
    "name": "ipython",
    "version": 3
   },
   "file_extension": ".py",
   "mimetype": "text/x-python",
   "name": "python",
   "nbconvert_exporter": "python",
   "pygments_lexer": "ipython3",
   "version": "3.6.4"
  }
 },
 "nbformat": 4,
 "nbformat_minor": 1
}
