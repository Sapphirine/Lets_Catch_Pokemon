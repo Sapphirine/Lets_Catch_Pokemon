{
 "cells": [
  {
   "cell_type": "code",
   "execution_count": 5,
   "metadata": {},
   "outputs": [],
   "source": [
    "import pandas as pd\n",
    "import numpy as np\n",
    "import matplotlib.pyplot as plt"
   ]
  },
  {
   "cell_type": "code",
   "execution_count": null,
   "metadata": {
    "scrolled": true
   },
   "outputs": [],
   "source": [
    "pd.set_option('display.max_columns', None)\n",
    "\n",
    "Data = pd.read_csv(\"../Data/smalldata.csv\")\n",
    "#Data = pd.read_csv(\"../Data/300k.csv\")\n",
    "#print(Data.head())\n",
    "\n",
    "#Steage 1\n",
    "Selection = ['pokemonId', 'latitude', 'longitude','appearedTimeOfDay', 'appearedHour','appearedMinute',\\\n",
    "             'appearedDay','terrainType', 'closeToWater', 'gymDistanceKm','city', 'continent','weather', 'temperature', \\\n",
    "             'windSpeed', 'windBearing', 'pressure','population_density','urban','suburban','midurban','pokestopDistanceKm','rural']\n",
    "#Selection = ['pokemonId', 'city','latitude', 'longitude', 'appearedHour','appearedMinute',\\\n",
    "#            'terrainType', 'closeToWater', 'gymDistanceKm','weather', 'temperature', \\\n",
    "#             'windSpeed', 'windBearing', 'pressure',\\\n",
    "#            'class' ]\n",
    "ReducedData = Data.loc[:, Selection]\n",
    "ReducedData.head()"
   ]
  },
  {
   "cell_type": "code",
   "execution_count": null,
   "metadata": {},
   "outputs": [],
   "source": [
    "def Convertnumber(Data, field):\n",
    "    Data[field]= Data[field].astype('category')\n",
    "    catdict = dict(enumerate(Data[field].cat.categories))\n",
    "    Data[field] = Data[field].cat.codes\n",
    "    return catdict, Data"
   ]
  },
  {
   "cell_type": "code",
   "execution_count": null,
   "metadata": {},
   "outputs": [],
   "source": [
    "weatherdict, ReducedData = Convertnumber(ReducedData, 'weather')\n",
    "waterdict, ReducedData = Convertnumber(ReducedData, 'closeToWater')\n",
    "appearedTimeOfDaydict, ReducedData = Convertnumber(ReducedData, 'appearedTimeOfDay')\n",
    "citydict, ReducedData = Convertnumber(ReducedData, 'city')\n",
    "continentdict, ReducedData = Convertnumber(ReducedData, 'continent')\n",
    "urbandict, ReducedData = Convertnumber(ReducedData, 'urban')\n",
    "suburbandict, ReducedData = Convertnumber(ReducedData, 'suburban')\n",
    "midurbandict, ReducedData = Convertnumber(ReducedData, 'midurban')\n",
    "ruraldict, ReducedData = Convertnumber(ReducedData, 'rural')\n",
    "ReducedData.head()"
   ]
  },
  {
   "cell_type": "code",
   "execution_count": null,
   "metadata": {},
   "outputs": [],
   "source": [
    "ReducedData = ReducedData.convert_objects(convert_numeric=True).dropna()"
   ]
  },
  {
   "cell_type": "code",
   "execution_count": 10,
   "metadata": {},
   "outputs": [
    {
     "name": "stderr",
     "output_type": "stream",
     "text": [
      "C:\\WorkSpace\\Python\\Big Data\\project\\venv\\lib\\site-packages\\ipykernel_launcher.py:1: FutureWarning: Method .as_matrix will be removed in a future version. Use .values instead.\n",
      "  \"\"\"Entry point for launching an IPython kernel.\n"
     ]
    }
   ],
   "source": [
    "Datamaxtrix = ReducedData.as_matrix()"
   ]
  },
  {
   "cell_type": "code",
   "execution_count": 11,
   "metadata": {},
   "outputs": [
    {
     "name": "stdout",
     "output_type": "stream",
     "text": [
      "(300, 12)\n",
      "(300,)\n"
     ]
    }
   ],
   "source": [
    "x = np.array(Datamaxtrix[:,1:-2])\n",
    "y = np.array(Datamaxtrix[:,1])\n",
    "print(np.shape(x))\n",
    "print(np.shape(y))"
   ]
  },
  {
   "cell_type": "code",
   "execution_count": 12,
   "metadata": {},
   "outputs": [],
   "source": [
    "sample_numbers = np.shape(x)[0]\n",
    "randomindex = np.random.choice(sample_numbers, sample_numbers, replace=False)"
   ]
  },
  {
   "cell_type": "code",
   "execution_count": 13,
   "metadata": {},
   "outputs": [
    {
     "name": "stdout",
     "output_type": "stream",
     "text": [
      "(210, 12) (210,)\n",
      "(90, 12) (90,)\n"
     ]
    }
   ],
   "source": [
    "#Reindex\n",
    "x = x[randomindex,:]\n",
    "y = y[randomindex]\n",
    "#Split into Training and Testing\n",
    "ratio = 0.7\n",
    "train_numbers = int(ratio * sample_numbers)\n",
    "test_numbers = sample_numbers - train_numbers \n",
    "feature_train = x[0:train_numbers,:]\n",
    "feature_test = x[train_numbers:sample_numbers,:]\n",
    "label_train = y[0:train_numbers]\n",
    "label_test = y[train_numbers:sample_numbers]\n",
    "print(np.shape(feature_train),np.shape(label_train))\n",
    "print(np.shape(feature_test),np.shape(label_test))"
   ]
  },
  {
   "cell_type": "code",
   "execution_count": 14,
   "metadata": {},
   "outputs": [],
   "source": [
    "from sklearn.neural_network import MLPClassifier"
   ]
  },
  {
   "cell_type": "code",
   "execution_count": 18,
   "metadata": {},
   "outputs": [],
   "source": [
    "model= MLPClassifier(solver='lbfgs', alpha=1e-5, hidden_layer_sizes=(10,20,20,2), random_state=1,verbose=True)\n",
    "model.fit(feature_train,label_train)\n",
    "result = model.predict(feature_test)"
   ]
  },
  {
   "cell_type": "code",
   "execution_count": 19,
   "metadata": {},
   "outputs": [
    {
     "data": {
      "text/plain": [
       "array([[0.00477605, 0.01900069, 0.00478284, ..., 0.01431864, 0.05237538,\n",
       "        0.01432646],\n",
       "       [0.00477605, 0.01900069, 0.00478284, ..., 0.01431864, 0.05237538,\n",
       "        0.01432646],\n",
       "       [0.00477605, 0.01900069, 0.00478284, ..., 0.01431864, 0.05237538,\n",
       "        0.01432646],\n",
       "       ...,\n",
       "       [0.00477605, 0.01900069, 0.00478284, ..., 0.01431864, 0.05237538,\n",
       "        0.01432646],\n",
       "       [0.00477605, 0.01900069, 0.00478284, ..., 0.01431864, 0.05237538,\n",
       "        0.01432646],\n",
       "       [0.00477605, 0.01900069, 0.00478284, ..., 0.01431864, 0.05237538,\n",
       "        0.01432646]])"
      ]
     },
     "execution_count": 19,
     "metadata": {},
     "output_type": "execute_result"
    }
   ],
   "source": [
    "model.predict_proba(feature_test)"
   ]
  },
  {
   "cell_type": "code",
   "execution_count": 20,
   "metadata": {},
   "outputs": [
    {
     "data": {
      "text/plain": [
       "array([16., 16., 16., 16., 16., 16., 16., 16., 16., 16., 16., 16., 16.,\n",
       "       16., 16., 16., 16., 16., 16., 16., 16., 16., 16., 16., 16., 16.,\n",
       "       16., 16., 16., 16., 16., 16., 16., 16., 16., 16., 16., 16., 16.,\n",
       "       16., 16., 16., 16., 16., 16., 16., 16., 16., 16., 16., 16., 16.,\n",
       "       16., 16., 16., 16., 16., 16., 16., 16., 16., 16., 16., 16., 16.,\n",
       "       16., 16., 16., 16., 16., 16., 16., 16., 16., 16., 16., 16., 16.,\n",
       "       16., 16., 16., 16., 16., 16., 16., 16., 16., 16., 16., 16.])"
      ]
     },
     "execution_count": 20,
     "metadata": {},
     "output_type": "execute_result"
    }
   ],
   "source": []
  },
  {
   "cell_type": "code",
   "execution_count": 12,
   "metadata": {},
   "outputs": [
    {
     "data": {
      "text/plain": [
       "array([87., 78., 57., ..., 65., 73., 51.])"
      ]
     },
     "execution_count": 12,
     "metadata": {},
     "output_type": "execute_result"
    }
   ],
   "source": [
    "result"
   ]
  },
  {
   "cell_type": "code",
   "execution_count": 13,
   "metadata": {},
   "outputs": [
    {
     "data": {
      "text/plain": [
       "array(['Tokyo', 'Rome', 'Manila', ..., 'New_York', 'Prague', 'London'],\n",
       "      dtype='<U12')"
      ]
     },
     "execution_count": 13,
     "metadata": {},
     "output_type": "execute_result"
    }
   ],
   "source": [
    "Predict_city = np.array(list(map(lambda x: catedict3[x],result)))\n",
    "Predict_city"
   ]
  },
  {
   "cell_type": "code",
   "execution_count": 14,
   "metadata": {},
   "outputs": [],
   "source": [
    "Predict_latitude = pd.DataFrame(Predict_city)\n",
    "Predict_latitude.to_csv(\"../Result/Predict_city.csv\")"
   ]
  },
  {
   "cell_type": "code",
   "execution_count": 16,
   "metadata": {},
   "outputs": [],
   "source": [
    "city = ReducedData['city']\n",
    "city.to_csv(\"../Result/city.csv\",header = True)"
   ]
  }
 ],
 "metadata": {
  "kernelspec": {
   "display_name": "Python 3",
   "language": "python",
   "name": "python3"
  },
  "language_info": {
   "codemirror_mode": {
    "name": "ipython",
    "version": 3
   },
   "file_extension": ".py",
   "mimetype": "text/x-python",
   "name": "python",
   "nbconvert_exporter": "python",
   "pygments_lexer": "ipython3",
   "version": "3.6.5"
  }
 },
 "nbformat": 4,
 "nbformat_minor": 1
}
