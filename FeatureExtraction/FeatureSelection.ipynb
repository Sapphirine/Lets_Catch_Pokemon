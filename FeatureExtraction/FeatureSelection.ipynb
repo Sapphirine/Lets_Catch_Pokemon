{
 "cells": [
  {
   "cell_type": "code",
   "execution_count": 158,
   "metadata": {},
   "outputs": [],
   "source": [
    "import pandas as pd\n",
    "import numpy as np\n",
    "import matplotlib.pyplot as plt"
   ]
  },
  {
   "cell_type": "code",
   "execution_count": 190,
   "metadata": {
    "scrolled": true
   },
   "outputs": [
    {
     "name": "stderr",
     "output_type": "stream",
     "text": [
      "C:\\WorkSpace\\Python\\Big Data\\project\\venv\\lib\\site-packages\\IPython\\core\\interactiveshell.py:2705: DtypeWarning: Columns (49) have mixed types. Specify dtype option on import or set low_memory=False.\n",
      "  interactivity=interactivity, compiler=compiler, result=result)\n"
     ]
    },
    {
     "data": {
      "text/html": [
       "<div>\n",
       "<style scoped>\n",
       "    .dataframe tbody tr th:only-of-type {\n",
       "        vertical-align: middle;\n",
       "    }\n",
       "\n",
       "    .dataframe tbody tr th {\n",
       "        vertical-align: top;\n",
       "    }\n",
       "\n",
       "    .dataframe thead th {\n",
       "        text-align: right;\n",
       "    }\n",
       "</style>\n",
       "<table border=\"1\" class=\"dataframe\">\n",
       "  <thead>\n",
       "    <tr style=\"text-align: right;\">\n",
       "      <th></th>\n",
       "      <th>pokemonId</th>\n",
       "      <th>latitude</th>\n",
       "      <th>longitude</th>\n",
       "      <th>appearedHour</th>\n",
       "      <th>appearedMinute</th>\n",
       "      <th>city</th>\n",
       "      <th>terrainType</th>\n",
       "      <th>closeToWater</th>\n",
       "      <th>gymDistanceKm</th>\n",
       "      <th>weather</th>\n",
       "      <th>temperature</th>\n",
       "      <th>windSpeed</th>\n",
       "      <th>windBearing</th>\n",
       "      <th>pressure</th>\n",
       "      <th>class</th>\n",
       "    </tr>\n",
       "  </thead>\n",
       "  <tbody>\n",
       "    <tr>\n",
       "      <th>0</th>\n",
       "      <td>16</td>\n",
       "      <td>20.525745</td>\n",
       "      <td>-97.460829</td>\n",
       "      <td>5</td>\n",
       "      <td>57</td>\n",
       "      <td>Mexico_City</td>\n",
       "      <td>14</td>\n",
       "      <td>False</td>\n",
       "      <td>0.049869</td>\n",
       "      <td>Foggy</td>\n",
       "      <td>25.5</td>\n",
       "      <td>4.79</td>\n",
       "      <td>269</td>\n",
       "      <td>1018.02</td>\n",
       "      <td>16</td>\n",
       "    </tr>\n",
       "    <tr>\n",
       "      <th>1</th>\n",
       "      <td>133</td>\n",
       "      <td>20.523695</td>\n",
       "      <td>-97.461167</td>\n",
       "      <td>5</td>\n",
       "      <td>57</td>\n",
       "      <td>Mexico_City</td>\n",
       "      <td>14</td>\n",
       "      <td>False</td>\n",
       "      <td>0.259156</td>\n",
       "      <td>Foggy</td>\n",
       "      <td>25.5</td>\n",
       "      <td>4.79</td>\n",
       "      <td>269</td>\n",
       "      <td>1018.02</td>\n",
       "      <td>133</td>\n",
       "    </tr>\n",
       "    <tr>\n",
       "      <th>2</th>\n",
       "      <td>16</td>\n",
       "      <td>38.903590</td>\n",
       "      <td>-77.199780</td>\n",
       "      <td>5</td>\n",
       "      <td>57</td>\n",
       "      <td>New_York</td>\n",
       "      <td>13</td>\n",
       "      <td>False</td>\n",
       "      <td>0.489886</td>\n",
       "      <td>Clear</td>\n",
       "      <td>24.2</td>\n",
       "      <td>4.29</td>\n",
       "      <td>218</td>\n",
       "      <td>1015.29</td>\n",
       "      <td>16</td>\n",
       "    </tr>\n",
       "    <tr>\n",
       "      <th>3</th>\n",
       "      <td>13</td>\n",
       "      <td>47.665903</td>\n",
       "      <td>-122.312561</td>\n",
       "      <td>5</td>\n",
       "      <td>56</td>\n",
       "      <td>Los_Angeles</td>\n",
       "      <td>0</td>\n",
       "      <td>True</td>\n",
       "      <td>0.359309</td>\n",
       "      <td>PartlyCloudy</td>\n",
       "      <td>15.6</td>\n",
       "      <td>5.84</td>\n",
       "      <td>160</td>\n",
       "      <td>1020.52</td>\n",
       "      <td>13</td>\n",
       "    </tr>\n",
       "    <tr>\n",
       "      <th>4</th>\n",
       "      <td>133</td>\n",
       "      <td>47.666454</td>\n",
       "      <td>-122.311628</td>\n",
       "      <td>5</td>\n",
       "      <td>56</td>\n",
       "      <td>Los_Angeles</td>\n",
       "      <td>0</td>\n",
       "      <td>True</td>\n",
       "      <td>0.210543</td>\n",
       "      <td>PartlyCloudy</td>\n",
       "      <td>15.6</td>\n",
       "      <td>5.84</td>\n",
       "      <td>160</td>\n",
       "      <td>1020.52</td>\n",
       "      <td>133</td>\n",
       "    </tr>\n",
       "  </tbody>\n",
       "</table>\n",
       "</div>"
      ],
      "text/plain": [
       "   pokemonId   latitude   longitude  appearedHour  appearedMinute  \\\n",
       "0         16  20.525745  -97.460829             5              57   \n",
       "1        133  20.523695  -97.461167             5              57   \n",
       "2         16  38.903590  -77.199780             5              57   \n",
       "3         13  47.665903 -122.312561             5              56   \n",
       "4        133  47.666454 -122.311628             5              56   \n",
       "\n",
       "          city  terrainType  closeToWater  gymDistanceKm       weather  \\\n",
       "0  Mexico_City           14         False       0.049869         Foggy   \n",
       "1  Mexico_City           14         False       0.259156         Foggy   \n",
       "2     New_York           13         False       0.489886         Clear   \n",
       "3  Los_Angeles            0          True       0.359309  PartlyCloudy   \n",
       "4  Los_Angeles            0          True       0.210543  PartlyCloudy   \n",
       "\n",
       "   temperature  windSpeed  windBearing  pressure  class  \n",
       "0         25.5       4.79          269   1018.02     16  \n",
       "1         25.5       4.79          269   1018.02    133  \n",
       "2         24.2       4.29          218   1015.29     16  \n",
       "3         15.6       5.84          160   1020.52     13  \n",
       "4         15.6       5.84          160   1020.52    133  "
      ]
     },
     "execution_count": 190,
     "metadata": {},
     "output_type": "execute_result"
    }
   ],
   "source": [
    "pd.set_option('display.max_columns', None)\n",
    "\n",
    "#Data = pd.read_csv(\"smalldata.csv\")\n",
    "Data = pd.read_csv(\"../Data/300k.csv\")\n",
    "#print(Data.head())\n",
    "\n",
    "#Steage 1\n",
    "#Selection = ['pokemonId', 'latitude', 'longitude', 'appearedLocalTime','appearedTimeOfDay', 'appearedHour','appearedMinute',\\\n",
    "#             'appearedDay',  'appearedMonth',  'appearedYear','terrainType', 'closeToWater', 'gymDistanceKm','city', 'continent','weather', 'temperature', \\\n",
    "#             'windSpeed', 'windBearing', 'pressure','class' ]\n",
    "Selection = ['pokemonId', 'latitude', 'longitude', 'appearedHour','appearedMinute','city',\\\n",
    "            'terrainType', 'closeToWater', 'gymDistanceKm','weather', 'temperature', \\\n",
    "             'windSpeed', 'windBearing', 'pressure',\\\n",
    "            'class' ]\n",
    "ReducedData = Data.loc[:, Selection]\n",
    "ReducedData.head()"
   ]
  },
  {
   "cell_type": "code",
   "execution_count": 161,
   "metadata": {},
   "outputs": [
    {
     "data": {
      "text/html": [
       "<div>\n",
       "<style scoped>\n",
       "    .dataframe tbody tr th:only-of-type {\n",
       "        vertical-align: middle;\n",
       "    }\n",
       "\n",
       "    .dataframe tbody tr th {\n",
       "        vertical-align: top;\n",
       "    }\n",
       "\n",
       "    .dataframe thead th {\n",
       "        text-align: right;\n",
       "    }\n",
       "</style>\n",
       "<table border=\"1\" class=\"dataframe\">\n",
       "  <thead>\n",
       "    <tr style=\"text-align: right;\">\n",
       "      <th></th>\n",
       "      <th>pokemonId</th>\n",
       "      <th>latitude</th>\n",
       "      <th>longitude</th>\n",
       "      <th>appearedHour</th>\n",
       "      <th>appearedMinute</th>\n",
       "      <th>terrainType</th>\n",
       "      <th>closeToWater</th>\n",
       "      <th>gymDistanceKm</th>\n",
       "      <th>weather</th>\n",
       "      <th>temperature</th>\n",
       "      <th>windSpeed</th>\n",
       "      <th>windBearing</th>\n",
       "      <th>pressure</th>\n",
       "      <th>class</th>\n",
       "    </tr>\n",
       "  </thead>\n",
       "  <tbody>\n",
       "    <tr>\n",
       "      <th>0</th>\n",
       "      <td>16</td>\n",
       "      <td>20.525745</td>\n",
       "      <td>-97.460829</td>\n",
       "      <td>5</td>\n",
       "      <td>57</td>\n",
       "      <td>14</td>\n",
       "      <td>False</td>\n",
       "      <td>0.049869</td>\n",
       "      <td>11</td>\n",
       "      <td>25.5</td>\n",
       "      <td>4.79</td>\n",
       "      <td>269</td>\n",
       "      <td>1018.02</td>\n",
       "      <td>16</td>\n",
       "    </tr>\n",
       "    <tr>\n",
       "      <th>1</th>\n",
       "      <td>133</td>\n",
       "      <td>20.523695</td>\n",
       "      <td>-97.461167</td>\n",
       "      <td>5</td>\n",
       "      <td>57</td>\n",
       "      <td>14</td>\n",
       "      <td>False</td>\n",
       "      <td>0.259156</td>\n",
       "      <td>11</td>\n",
       "      <td>25.5</td>\n",
       "      <td>4.79</td>\n",
       "      <td>269</td>\n",
       "      <td>1018.02</td>\n",
       "      <td>133</td>\n",
       "    </tr>\n",
       "    <tr>\n",
       "      <th>2</th>\n",
       "      <td>16</td>\n",
       "      <td>38.903590</td>\n",
       "      <td>-77.199780</td>\n",
       "      <td>5</td>\n",
       "      <td>57</td>\n",
       "      <td>13</td>\n",
       "      <td>False</td>\n",
       "      <td>0.489886</td>\n",
       "      <td>4</td>\n",
       "      <td>24.2</td>\n",
       "      <td>4.29</td>\n",
       "      <td>218</td>\n",
       "      <td>1015.29</td>\n",
       "      <td>16</td>\n",
       "    </tr>\n",
       "    <tr>\n",
       "      <th>3</th>\n",
       "      <td>13</td>\n",
       "      <td>47.665903</td>\n",
       "      <td>-122.312561</td>\n",
       "      <td>5</td>\n",
       "      <td>56</td>\n",
       "      <td>0</td>\n",
       "      <td>True</td>\n",
       "      <td>0.359309</td>\n",
       "      <td>20</td>\n",
       "      <td>15.6</td>\n",
       "      <td>5.84</td>\n",
       "      <td>160</td>\n",
       "      <td>1020.52</td>\n",
       "      <td>13</td>\n",
       "    </tr>\n",
       "    <tr>\n",
       "      <th>4</th>\n",
       "      <td>133</td>\n",
       "      <td>47.666454</td>\n",
       "      <td>-122.311628</td>\n",
       "      <td>5</td>\n",
       "      <td>56</td>\n",
       "      <td>0</td>\n",
       "      <td>True</td>\n",
       "      <td>0.210543</td>\n",
       "      <td>20</td>\n",
       "      <td>15.6</td>\n",
       "      <td>5.84</td>\n",
       "      <td>160</td>\n",
       "      <td>1020.52</td>\n",
       "      <td>133</td>\n",
       "    </tr>\n",
       "  </tbody>\n",
       "</table>\n",
       "</div>"
      ],
      "text/plain": [
       "   pokemonId   latitude   longitude  appearedHour  appearedMinute  \\\n",
       "0         16  20.525745  -97.460829             5              57   \n",
       "1        133  20.523695  -97.461167             5              57   \n",
       "2         16  38.903590  -77.199780             5              57   \n",
       "3         13  47.665903 -122.312561             5              56   \n",
       "4        133  47.666454 -122.311628             5              56   \n",
       "\n",
       "   terrainType  closeToWater  gymDistanceKm  weather  temperature  windSpeed  \\\n",
       "0           14         False       0.049869       11         25.5       4.79   \n",
       "1           14         False       0.259156       11         25.5       4.79   \n",
       "2           13         False       0.489886        4         24.2       4.29   \n",
       "3            0          True       0.359309       20         15.6       5.84   \n",
       "4            0          True       0.210543       20         15.6       5.84   \n",
       "\n",
       "   windBearing  pressure  class  \n",
       "0          269   1018.02     16  \n",
       "1          269   1018.02    133  \n",
       "2          218   1015.29     16  \n",
       "3          160   1020.52     13  \n",
       "4          160   1020.52    133  "
      ]
     },
     "execution_count": 161,
     "metadata": {},
     "output_type": "execute_result"
    }
   ],
   "source": [
    "ReducedData['weather']= ReducedData['weather'].astype('category')\n",
    "catedict = dict(enumerate(ReducedData['weather'].cat.categories))\n",
    "ReducedData['weather'] = ReducedData['weather'].cat.codes\n",
    "ReducedData.head()"
   ]
  },
  {
   "cell_type": "code",
   "execution_count": 162,
   "metadata": {},
   "outputs": [
    {
     "data": {
      "text/html": [
       "<div>\n",
       "<style scoped>\n",
       "    .dataframe tbody tr th:only-of-type {\n",
       "        vertical-align: middle;\n",
       "    }\n",
       "\n",
       "    .dataframe tbody tr th {\n",
       "        vertical-align: top;\n",
       "    }\n",
       "\n",
       "    .dataframe thead th {\n",
       "        text-align: right;\n",
       "    }\n",
       "</style>\n",
       "<table border=\"1\" class=\"dataframe\">\n",
       "  <thead>\n",
       "    <tr style=\"text-align: right;\">\n",
       "      <th></th>\n",
       "      <th>pokemonId</th>\n",
       "      <th>latitude</th>\n",
       "      <th>longitude</th>\n",
       "      <th>appearedHour</th>\n",
       "      <th>appearedMinute</th>\n",
       "      <th>terrainType</th>\n",
       "      <th>closeToWater</th>\n",
       "      <th>gymDistanceKm</th>\n",
       "      <th>weather</th>\n",
       "      <th>temperature</th>\n",
       "      <th>windSpeed</th>\n",
       "      <th>windBearing</th>\n",
       "      <th>pressure</th>\n",
       "      <th>class</th>\n",
       "    </tr>\n",
       "  </thead>\n",
       "  <tbody>\n",
       "    <tr>\n",
       "      <th>0</th>\n",
       "      <td>16</td>\n",
       "      <td>20.525745</td>\n",
       "      <td>-97.460829</td>\n",
       "      <td>5</td>\n",
       "      <td>57</td>\n",
       "      <td>14</td>\n",
       "      <td>0</td>\n",
       "      <td>0.049869</td>\n",
       "      <td>11</td>\n",
       "      <td>25.5</td>\n",
       "      <td>4.79</td>\n",
       "      <td>269</td>\n",
       "      <td>1018.02</td>\n",
       "      <td>16</td>\n",
       "    </tr>\n",
       "    <tr>\n",
       "      <th>1</th>\n",
       "      <td>133</td>\n",
       "      <td>20.523695</td>\n",
       "      <td>-97.461167</td>\n",
       "      <td>5</td>\n",
       "      <td>57</td>\n",
       "      <td>14</td>\n",
       "      <td>0</td>\n",
       "      <td>0.259156</td>\n",
       "      <td>11</td>\n",
       "      <td>25.5</td>\n",
       "      <td>4.79</td>\n",
       "      <td>269</td>\n",
       "      <td>1018.02</td>\n",
       "      <td>133</td>\n",
       "    </tr>\n",
       "    <tr>\n",
       "      <th>2</th>\n",
       "      <td>16</td>\n",
       "      <td>38.903590</td>\n",
       "      <td>-77.199780</td>\n",
       "      <td>5</td>\n",
       "      <td>57</td>\n",
       "      <td>13</td>\n",
       "      <td>0</td>\n",
       "      <td>0.489886</td>\n",
       "      <td>4</td>\n",
       "      <td>24.2</td>\n",
       "      <td>4.29</td>\n",
       "      <td>218</td>\n",
       "      <td>1015.29</td>\n",
       "      <td>16</td>\n",
       "    </tr>\n",
       "    <tr>\n",
       "      <th>3</th>\n",
       "      <td>13</td>\n",
       "      <td>47.665903</td>\n",
       "      <td>-122.312561</td>\n",
       "      <td>5</td>\n",
       "      <td>56</td>\n",
       "      <td>0</td>\n",
       "      <td>1</td>\n",
       "      <td>0.359309</td>\n",
       "      <td>20</td>\n",
       "      <td>15.6</td>\n",
       "      <td>5.84</td>\n",
       "      <td>160</td>\n",
       "      <td>1020.52</td>\n",
       "      <td>13</td>\n",
       "    </tr>\n",
       "    <tr>\n",
       "      <th>4</th>\n",
       "      <td>133</td>\n",
       "      <td>47.666454</td>\n",
       "      <td>-122.311628</td>\n",
       "      <td>5</td>\n",
       "      <td>56</td>\n",
       "      <td>0</td>\n",
       "      <td>1</td>\n",
       "      <td>0.210543</td>\n",
       "      <td>20</td>\n",
       "      <td>15.6</td>\n",
       "      <td>5.84</td>\n",
       "      <td>160</td>\n",
       "      <td>1020.52</td>\n",
       "      <td>133</td>\n",
       "    </tr>\n",
       "  </tbody>\n",
       "</table>\n",
       "</div>"
      ],
      "text/plain": [
       "   pokemonId   latitude   longitude  appearedHour  appearedMinute  \\\n",
       "0         16  20.525745  -97.460829             5              57   \n",
       "1        133  20.523695  -97.461167             5              57   \n",
       "2         16  38.903590  -77.199780             5              57   \n",
       "3         13  47.665903 -122.312561             5              56   \n",
       "4        133  47.666454 -122.311628             5              56   \n",
       "\n",
       "   terrainType  closeToWater  gymDistanceKm  weather  temperature  windSpeed  \\\n",
       "0           14             0       0.049869       11         25.5       4.79   \n",
       "1           14             0       0.259156       11         25.5       4.79   \n",
       "2           13             0       0.489886        4         24.2       4.29   \n",
       "3            0             1       0.359309       20         15.6       5.84   \n",
       "4            0             1       0.210543       20         15.6       5.84   \n",
       "\n",
       "   windBearing  pressure  class  \n",
       "0          269   1018.02     16  \n",
       "1          269   1018.02    133  \n",
       "2          218   1015.29     16  \n",
       "3          160   1020.52     13  \n",
       "4          160   1020.52    133  "
      ]
     },
     "execution_count": 162,
     "metadata": {},
     "output_type": "execute_result"
    }
   ],
   "source": [
    "ReducedData['closeToWater'] = ReducedData['closeToWater'].astype('category')\n",
    "catedict2 = dict(enumerate(ReducedData['closeToWater'].cat.categories))\n",
    "ReducedData['closeToWater'] = ReducedData['closeToWater'].cat.codes\n",
    "ReducedData.head()"
   ]
  },
  {
   "cell_type": "code",
   "execution_count": 163,
   "metadata": {},
   "outputs": [
    {
     "name": "stderr",
     "output_type": "stream",
     "text": [
      "C:\\WorkSpace\\Python\\Big Data\\project\\venv\\lib\\site-packages\\ipykernel_launcher.py:1: FutureWarning: Method .as_matrix will be removed in a future version. Use .values instead.\n",
      "  \"\"\"Entry point for launching an IPython kernel.\n"
     ]
    }
   ],
   "source": [
    "Datamaxtrix = ReducedData.as_matrix()"
   ]
  },
  {
   "cell_type": "code",
   "execution_count": 164,
   "metadata": {},
   "outputs": [
    {
     "name": "stdout",
     "output_type": "stream",
     "text": [
      "(296021, 10)\n",
      "(296021, 2)\n"
     ]
    }
   ],
   "source": [
    "x = np.array(Datamaxtrix[:,3:-1])\n",
    "y = np.array(Datamaxtrix[:,1:3])\n",
    "print(np.shape(x))\n",
    "print(np.shape(y))"
   ]
  },
  {
   "cell_type": "code",
   "execution_count": 170,
   "metadata": {},
   "outputs": [],
   "source": [
    "sample_numbers = np.shape(x)[0]\n",
    "randomindex = np.random.choice(sample_numbers, sample_numbers, replace=False)"
   ]
  },
  {
   "cell_type": "code",
   "execution_count": 175,
   "metadata": {},
   "outputs": [
    {
     "name": "stdout",
     "output_type": "stream",
     "text": [
      "(207214, 10) (207214, 2)\n",
      "(88807, 10) (88807, 2)\n"
     ]
    }
   ],
   "source": [
    "#Reindex\n",
    "x = x[randomindex,:]\n",
    "y = y[randomindex,:]\n",
    "#Split into Training and Testing\n",
    "ratio = 0.7\n",
    "train_numbers = int(ratio * sample_numbers)\n",
    "test_numbers = sample_numbers - train_numbers \n",
    "feature_train = x[0:train_numbers,:]\n",
    "feature_test = x[train_numbers:sample_numbers,:]\n",
    "label_train = y[0:train_numbers,:]\n",
    "label_test = y[train_numbers:sample_numbers,:]\n",
    "print(np.shape(feature_train),np.shape(label_train))\n",
    "print(np.shape(feature_test),np.shape(label_test))"
   ]
  },
  {
   "cell_type": "code",
   "execution_count": 177,
   "metadata": {},
   "outputs": [
    {
     "name": "stdout",
     "output_type": "stream",
     "text": [
      "(207214,) (207214,) (88807,) (88807,)\n"
     ]
    }
   ],
   "source": [
    "#Convert data to 1 dimension to fit for GradientBoostingRegressor\n",
    "latitude_train = label_train[:,0]\n",
    "longitude_train = label_train[:,1]\n",
    "latitude_test = label_test[:,0]\n",
    "longitude_test = label_test[:,1]\n",
    "print(np.shape(latitude_train),np.shape(longitude_train),np.shape(latitude_test),np.shape(longitude_test))"
   ]
  },
  {
   "cell_type": "code",
   "execution_count": 147,
   "metadata": {},
   "outputs": [],
   "source": [
    "from sklearn import ensemble"
   ]
  },
  {
   "cell_type": "code",
   "execution_count": 204,
   "metadata": {},
   "outputs": [
    {
     "name": "stdout",
     "output_type": "stream",
     "text": [
      "      Iter       Train Loss   Remaining Time \n",
      "         1         267.3199            4.36m\n",
      "         2         249.2744            4.40m\n",
      "         3         233.7533            4.42m\n",
      "         4         220.8856            4.37m\n",
      "         5         210.6935            4.34m\n",
      "         6         202.1137            4.32m\n",
      "         7         194.4644            4.30m\n",
      "         8         186.3861            4.29m\n",
      "         9         181.2071            4.28m\n",
      "        10         176.2974            4.26m\n",
      "        20         133.2665            4.41m\n",
      "        30         111.8070            4.65m\n",
      "        40          97.7165            4.48m\n",
      "        50          88.4589            4.34m\n",
      "        60          81.4214            4.16m\n",
      "        70          76.6419            3.99m\n",
      "        80          72.2078            3.82m\n",
      "        90          69.3011            3.67m\n",
      "       100          66.7321            3.53m\n",
      "       200          47.8790            2.49m\n",
      "       300          37.5755            1.62m\n",
      "       400          30.2104           48.72s\n",
      "       500          24.7814            0.00s\n"
     ]
    },
    {
     "data": {
      "text/plain": [
       "<matplotlib.legend.Legend at 0x120f6a38978>"
      ]
     },
     "execution_count": 204,
     "metadata": {},
     "output_type": "execute_result"
    },
    {
     "data": {
      "image/png": "[encoded data removed]",
      "text/plain": [
       "<Figure size 432x288 with 1 Axes>"
      ]
     },
     "metadata": {
      "needs_background": "light"
     },
     "output_type": "display_data"
    }
   ],
   "source": [
    "model_GradientBoostingRegressor = ensemble.GradientBoostingRegressor(max_depth=5,n_estimators=500,learning_rate=0.1,verbose=1)\n",
    "model = model_GradientBoostingRegressor\n",
    "model.fit(feature_train,latitude_train)\n",
    "score = model.score(feature_test,latitude_test)\n",
    "\n",
    "result = model.predict(feature_test)\n",
    "plt.figure()\n",
    "plt.plot(np.arange(len(result)), latitude_test,'b',label='true latitude')\n",
    "plt.plot(np.arange(len(result)),result,'ro-',label='predict latitude')\n",
    "plt.title('score: %f'%score)\n",
    "plt.legend()"
   ]
  },
  {
   "cell_type": "code",
   "execution_count": 205,
   "metadata": {},
   "outputs": [],
   "source": [
    "Predict_latitude = pd.DataFrame(result)\n",
    "#Predict_latitude.shape\n",
    "True_latitude = pd.DataFrame(latitude_test)\n",
    "#True_latitude.shape\n",
    "Predict_latitude.to_csv(\"../Result/predict_latitude.csv\")\n",
    "True_latitude.to_csv(\"../Result/true_latitude.csv\")"
   ]
  },
  {
   "cell_type": "code",
   "execution_count": 202,
   "metadata": {},
   "outputs": [
    {
     "name": "stdout",
     "output_type": "stream",
     "text": [
      "      Iter       Train Loss   Remaining Time \n",
      "         1        4238.8538            5.44m\n",
      "         2        3961.0445            5.06m\n",
      "         3        3722.2673            4.89m\n",
      "         4        3520.5390            4.83m\n",
      "         5        3327.5254            4.77m\n",
      "         6        3198.3267            4.71m\n",
      "         7        3071.8478            4.68m\n",
      "         8        2939.0381            4.65m\n",
      "         9        2832.6562            4.76m\n",
      "        10        2737.3891            4.72m\n",
      "        20        2144.9172            4.66m\n",
      "        30        1816.4329            4.57m\n",
      "        40        1567.8669            4.32m\n",
      "        50        1422.4382            4.12m\n",
      "        60        1338.6329            3.93m\n",
      "        70        1264.7955            3.79m\n",
      "        80        1190.8138            3.66m\n",
      "        90        1142.0599            3.53m\n",
      "       100        1077.9146            3.43m\n",
      "       200         769.8165            2.57m\n",
      "       300         590.8441            1.72m\n",
      "       400         487.5918           50.50s\n",
      "       500         407.7998            0.00s\n",
      "(88807,)\n"
     ]
    },
    {
     "data": {
      "text/plain": [
       "<matplotlib.legend.Legend at 0x120ffdee978>"
      ]
     },
     "execution_count": 202,
     "metadata": {},
     "output_type": "execute_result"
    },
    {
     "data": {
      "image/png": "[encoded data removed]",
      "text/plain": [
       "<Figure size 432x288 with 1 Axes>"
      ]
     },
     "metadata": {
      "needs_background": "light"
     },
     "output_type": "display_data"
    }
   ],
   "source": [
    "model_GradientBoostingRegressor = ensemble.GradientBoostingRegressor(max_depth=5,n_estimators=500,learning_rate=0.1,verbose=1)\n",
    "model = model_GradientBoostingRegressor\n",
    "model.fit(feature_train,longitude_train)\n",
    "score = model.score(feature_test, longitude_test)\n",
    "result = model.predict(feature_test)\n",
    "print(np.shape(result))\n",
    "plt.figure()\n",
    "plt.plot(np.arange(len(result)), longitude_test,'b',label='true longitude')\n",
    "plt.plot(np.arange(len(result)),result,'ro-',label='predict longitude')\n",
    "plt.title('score: %f'%score)\n",
    "plt.legend()"
   ]
  },
  {
   "cell_type": "code",
   "execution_count": 206,
   "metadata": {},
   "outputs": [],
   "source": [
    "Predict_longitude = pd.DataFrame(result)\n",
    "#Predict_latitude.shape\n",
    "True_longitude = pd.DataFrame(longitude_test)\n",
    "#True_latitude.shape\n",
    "Predict_longitude.to_csv(\"../Result/predict_longitude.csv\")\n",
    "True_longitude.to_csv(\"../Result/true_longitude.csv\")"
   ]
  },
  {
   "cell_type": "code",
   "execution_count": 193,
   "metadata": {},
   "outputs": [],
   "source": [
    "city = ReducedData['city']\n",
    "city.to_csv(\"../Result/city.csv\",header = True)\n",
    "True_longitude_latitude = ReducedData['latitude','longitude']"
   ]
  },
  {
   "cell_type": "code",
   "execution_count": null,
   "metadata": {},
   "outputs": [],
   "source": []
  }
 ],
 "metadata": {
  "kernelspec": {
   "display_name": "basemap",
   "language": "python",
   "name": "basemap"
  },
  "language_info": {
   "codemirror_mode": {
    "name": "ipython",
    "version": 3
   },
   "file_extension": ".py",
   "mimetype": "text/x-python",
   "name": "python",
   "nbconvert_exporter": "python",
   "pygments_lexer": "ipython3",
   "version": "3.6.7"
  }
 },
 "nbformat": 4,
 "nbformat_minor": 1
}
